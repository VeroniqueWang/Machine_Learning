{
  "nbformat": 4,
  "nbformat_minor": 0,
  "metadata": {
    "colab": {
      "name": "Codeathon.ipynb",
      "provenance": [],
      "collapsed_sections": [],
      "toc_visible": true
    },
    "kernelspec": {
      "name": "python3",
      "display_name": "Python 3"
    }
  },
  "cells": [
    {
      "cell_type": "markdown",
      "metadata": {
        "id": "qkhR0fgMQNMc",
        "colab_type": "text"
      },
      "source": [
        "# Step 1: Big Picture & Setup\n"
      ]
    },
    {
      "cell_type": "code",
      "metadata": {
        "id": "XNOBX_4NPg-I",
        "colab_type": "code",
        "colab": {}
      },
      "source": [
        "import sklearn\n",
        "\n",
        "# Common imports\n",
        "import numpy as np \n",
        "import os \n",
        "import io\n",
        "np.random.seed(317)\n",
        "\n",
        "# To plot pretty figures\n",
        "%matplotlib inline\n",
        "import matplotlib as mpl\n",
        "import matplotlib.pyplot as plt\n",
        "mpl.rc('axes', labelsize=14)\n",
        "mpl.rc('xtick', labelsize=12)\n",
        "mpl.rc('ytick', labelsize=12)\n",
        "\n",
        "# Where to save the figures\n",
        "PROJECT_ROOT_DIR = \".\"\n",
        "CHAPTER_ID = \"end_to_end_project\"\n",
        "IMAGES_PATH = os.path.join(PROJECT_ROOT_DIR, \"images\", CHAPTER_ID)\n",
        "os.makedirs(IMAGES_PATH, exist_ok=True)\n",
        "\n",
        "def save_fig(fig_id, tight_layout=True, fig_extension=\"png\", resolution=300):\n",
        "  \"\"\"Save the selected figure into disc under an image extention and resolution\n",
        "\n",
        "  Parameters\n",
        "  ----------\n",
        "  fig_id : figure handle\n",
        "    The id number of the figure\n",
        "  tight_layout : boolean (True or False)\n",
        "    Specifies whenther the layout should be tight or not\n",
        "  fig_extension: string\n",
        "    Under what extension should the file be saved (\"png\" or \"jpg\")\n",
        "  resolution: int\n",
        "    the quality of the figure (ie. 100,200,300)\n",
        "\n",
        "  Returns\n",
        "  -------\n",
        "  void\n",
        "    Does not return any value\n",
        "  \"\"\"\n",
        "\n",
        "  path = os.path.join(IMAGES_PATH, fig_id + \".\" + fig_extension)\n",
        "  print(\"Saving figure\", fig_id)\n",
        "  if tight_layout:\n",
        "    plt.tight_layout()\n",
        "  plt.savefig(path, format=fig_extension, dpi=resolution)"
      ],
      "execution_count": 0,
      "outputs": []
    },
    {
      "cell_type": "markdown",
      "metadata": {
        "id": "3Vyg2xD5QWhh",
        "colab_type": "text"
      },
      "source": [
        "Step 2: Get the Data"
      ]
    },
    {
      "cell_type": "code",
      "metadata": {
        "id": "2WBkM1DEQGBs",
        "colab_type": "code",
        "outputId": "f3f20f7b-ce63-45f9-cad2-aec0cd7b7058",
        "colab": {
          "resources": {
            "http://localhost:8080/nbextensions/google.colab/files.js": {
              "data": "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",
              "ok": true,
              "headers": [
                [
                  "content-type",
                  "application/javascript"
                ]
              ],
              "status": 200,
              "status_text": ""
            }
          },
          "base_uri": "https://localhost:8080/",
          "height": 41
        }
      },
      "source": [
        "import pandas as pd\n",
        "from google.colab import files\n",
        "uploaded = files.upload()"
      ],
      "execution_count": 5,
      "outputs": [
        {
          "output_type": "display_data",
          "data": {
            "text/html": [
              "\n",
              "     <input type=\"file\" id=\"files-ff2baa1e-97e1-4cd0-9ef1-4db9ea323b8f\" name=\"files[]\" multiple disabled />\n",
              "     <output id=\"result-ff2baa1e-97e1-4cd0-9ef1-4db9ea323b8f\">\n",
              "      Upload widget is only available when the cell has been executed in the\n",
              "      current browser session. Please rerun this cell to enable.\n",
              "      </output>\n",
              "      <script src=\"/nbextensions/google.colab/files.js\"></script> "
            ],
            "text/plain": [
              "<IPython.core.display.HTML object>"
            ]
          },
          "metadata": {
            "tags": []
          }
        }
      ]
    },
    {
      "cell_type": "code",
      "metadata": {
        "id": "FBaydRlcUvhD",
        "colab_type": "code",
        "colab": {}
      },
      "source": [
        "housing=pd.read_csv('housing.csv',header=None,delim_whitespace=True)\n",
        "housing.columns=['Crime rate','Land zone','Business Acre','Charles River','Nitric oxides','Rooms','Age','Distance','radial highways','Tax','PTRatio','Blacks','%Lower status','MEDV']"
      ],
      "execution_count": 0,
      "outputs": []
    },
    {
      "cell_type": "code",
      "metadata": {
        "id": "xWFFy0xKVz92",
        "colab_type": "code",
        "colab": {
          "base_uri": "https://localhost:8080/",
          "height": 340
        },
        "outputId": "e1cf89d3-670c-45b7-e453-933bee604c2e"
      },
      "source": [
        "housing.info()"
      ],
      "execution_count": 7,
      "outputs": [
        {
          "output_type": "stream",
          "text": [
            "<class 'pandas.core.frame.DataFrame'>\n",
            "RangeIndex: 506 entries, 0 to 505\n",
            "Data columns (total 14 columns):\n",
            "Crime rate         506 non-null float64\n",
            "Land zone          506 non-null float64\n",
            "Business Acre      506 non-null float64\n",
            "Charles River      506 non-null int64\n",
            "Nitric oxides      506 non-null float64\n",
            "Rooms              506 non-null float64\n",
            "Age                506 non-null float64\n",
            "Distance           506 non-null float64\n",
            "radial highways    506 non-null int64\n",
            "Tax                506 non-null float64\n",
            "PTRatio            506 non-null float64\n",
            "Blacks             506 non-null float64\n",
            "%Lower status      506 non-null float64\n",
            "MEDV               506 non-null float64\n",
            "dtypes: float64(12), int64(2)\n",
            "memory usage: 55.5 KB\n"
          ],
          "name": "stdout"
        }
      ]
    },
    {
      "cell_type": "code",
      "metadata": {
        "id": "pAesmO0RYI14",
        "colab_type": "code",
        "colab": {
          "base_uri": "https://localhost:8080/",
          "height": 334
        },
        "outputId": "615fab85-cf3d-4a31-ffd1-c66d21716432"
      },
      "source": [
        "housing.describe()"
      ],
      "execution_count": 8,
      "outputs": [
        {
          "output_type": "execute_result",
          "data": {
            "text/html": [
              "<div>\n",
              "<style scoped>\n",
              "    .dataframe tbody tr th:only-of-type {\n",
              "        vertical-align: middle;\n",
              "    }\n",
              "\n",
              "    .dataframe tbody tr th {\n",
              "        vertical-align: top;\n",
              "    }\n",
              "\n",
              "    .dataframe thead th {\n",
              "        text-align: right;\n",
              "    }\n",
              "</style>\n",
              "<table border=\"1\" class=\"dataframe\">\n",
              "  <thead>\n",
              "    <tr style=\"text-align: right;\">\n",
              "      <th></th>\n",
              "      <th>Crime rate</th>\n",
              "      <th>Land zone</th>\n",
              "      <th>Business Acre</th>\n",
              "      <th>Charles River</th>\n",
              "      <th>Nitric oxides</th>\n",
              "      <th>Rooms</th>\n",
              "      <th>Age</th>\n",
              "      <th>Distance</th>\n",
              "      <th>radial highways</th>\n",
              "      <th>Tax</th>\n",
              "      <th>PTRatio</th>\n",
              "      <th>Blacks</th>\n",
              "      <th>%Lower status</th>\n",
              "      <th>MEDV</th>\n",
              "    </tr>\n",
              "  </thead>\n",
              "  <tbody>\n",
              "    <tr>\n",
              "      <th>count</th>\n",
              "      <td>506.000000</td>\n",
              "      <td>506.000000</td>\n",
              "      <td>506.000000</td>\n",
              "      <td>506.000000</td>\n",
              "      <td>506.000000</td>\n",
              "      <td>506.000000</td>\n",
              "      <td>506.000000</td>\n",
              "      <td>506.000000</td>\n",
              "      <td>506.000000</td>\n",
              "      <td>506.000000</td>\n",
              "      <td>506.000000</td>\n",
              "      <td>506.000000</td>\n",
              "      <td>506.000000</td>\n",
              "      <td>506.000000</td>\n",
              "    </tr>\n",
              "    <tr>\n",
              "      <th>mean</th>\n",
              "      <td>3.613524</td>\n",
              "      <td>11.363636</td>\n",
              "      <td>11.136779</td>\n",
              "      <td>0.069170</td>\n",
              "      <td>0.554695</td>\n",
              "      <td>6.284634</td>\n",
              "      <td>68.574901</td>\n",
              "      <td>3.795043</td>\n",
              "      <td>9.549407</td>\n",
              "      <td>408.237154</td>\n",
              "      <td>18.455534</td>\n",
              "      <td>356.674032</td>\n",
              "      <td>12.653063</td>\n",
              "      <td>22.532806</td>\n",
              "    </tr>\n",
              "    <tr>\n",
              "      <th>std</th>\n",
              "      <td>8.601545</td>\n",
              "      <td>23.322453</td>\n",
              "      <td>6.860353</td>\n",
              "      <td>0.253994</td>\n",
              "      <td>0.115878</td>\n",
              "      <td>0.702617</td>\n",
              "      <td>28.148861</td>\n",
              "      <td>2.105710</td>\n",
              "      <td>8.707259</td>\n",
              "      <td>168.537116</td>\n",
              "      <td>2.164946</td>\n",
              "      <td>91.294864</td>\n",
              "      <td>7.141062</td>\n",
              "      <td>9.197104</td>\n",
              "    </tr>\n",
              "    <tr>\n",
              "      <th>min</th>\n",
              "      <td>0.006320</td>\n",
              "      <td>0.000000</td>\n",
              "      <td>0.460000</td>\n",
              "      <td>0.000000</td>\n",
              "      <td>0.385000</td>\n",
              "      <td>3.561000</td>\n",
              "      <td>2.900000</td>\n",
              "      <td>1.129600</td>\n",
              "      <td>1.000000</td>\n",
              "      <td>187.000000</td>\n",
              "      <td>12.600000</td>\n",
              "      <td>0.320000</td>\n",
              "      <td>1.730000</td>\n",
              "      <td>5.000000</td>\n",
              "    </tr>\n",
              "    <tr>\n",
              "      <th>25%</th>\n",
              "      <td>0.082045</td>\n",
              "      <td>0.000000</td>\n",
              "      <td>5.190000</td>\n",
              "      <td>0.000000</td>\n",
              "      <td>0.449000</td>\n",
              "      <td>5.885500</td>\n",
              "      <td>45.025000</td>\n",
              "      <td>2.100175</td>\n",
              "      <td>4.000000</td>\n",
              "      <td>279.000000</td>\n",
              "      <td>17.400000</td>\n",
              "      <td>375.377500</td>\n",
              "      <td>6.950000</td>\n",
              "      <td>17.025000</td>\n",
              "    </tr>\n",
              "    <tr>\n",
              "      <th>50%</th>\n",
              "      <td>0.256510</td>\n",
              "      <td>0.000000</td>\n",
              "      <td>9.690000</td>\n",
              "      <td>0.000000</td>\n",
              "      <td>0.538000</td>\n",
              "      <td>6.208500</td>\n",
              "      <td>77.500000</td>\n",
              "      <td>3.207450</td>\n",
              "      <td>5.000000</td>\n",
              "      <td>330.000000</td>\n",
              "      <td>19.050000</td>\n",
              "      <td>391.440000</td>\n",
              "      <td>11.360000</td>\n",
              "      <td>21.200000</td>\n",
              "    </tr>\n",
              "    <tr>\n",
              "      <th>75%</th>\n",
              "      <td>3.677082</td>\n",
              "      <td>12.500000</td>\n",
              "      <td>18.100000</td>\n",
              "      <td>0.000000</td>\n",
              "      <td>0.624000</td>\n",
              "      <td>6.623500</td>\n",
              "      <td>94.075000</td>\n",
              "      <td>5.188425</td>\n",
              "      <td>24.000000</td>\n",
              "      <td>666.000000</td>\n",
              "      <td>20.200000</td>\n",
              "      <td>396.225000</td>\n",
              "      <td>16.955000</td>\n",
              "      <td>25.000000</td>\n",
              "    </tr>\n",
              "    <tr>\n",
              "      <th>max</th>\n",
              "      <td>88.976200</td>\n",
              "      <td>100.000000</td>\n",
              "      <td>27.740000</td>\n",
              "      <td>1.000000</td>\n",
              "      <td>0.871000</td>\n",
              "      <td>8.780000</td>\n",
              "      <td>100.000000</td>\n",
              "      <td>12.126500</td>\n",
              "      <td>24.000000</td>\n",
              "      <td>711.000000</td>\n",
              "      <td>22.000000</td>\n",
              "      <td>396.900000</td>\n",
              "      <td>37.970000</td>\n",
              "      <td>50.000000</td>\n",
              "    </tr>\n",
              "  </tbody>\n",
              "</table>\n",
              "</div>"
            ],
            "text/plain": [
              "       Crime rate   Land zone  ...  %Lower status        MEDV\n",
              "count  506.000000  506.000000  ...     506.000000  506.000000\n",
              "mean     3.613524   11.363636  ...      12.653063   22.532806\n",
              "std      8.601545   23.322453  ...       7.141062    9.197104\n",
              "min      0.006320    0.000000  ...       1.730000    5.000000\n",
              "25%      0.082045    0.000000  ...       6.950000   17.025000\n",
              "50%      0.256510    0.000000  ...      11.360000   21.200000\n",
              "75%      3.677082   12.500000  ...      16.955000   25.000000\n",
              "max     88.976200  100.000000  ...      37.970000   50.000000\n",
              "\n",
              "[8 rows x 14 columns]"
            ]
          },
          "metadata": {
            "tags": []
          },
          "execution_count": 8
        }
      ]
    },
    {
      "cell_type": "code",
      "metadata": {
        "id": "B0dd0duzYl00",
        "colab_type": "code",
        "outputId": "06c35c1b-89b4-455e-ce28-554e18153417",
        "colab": {
          "base_uri": "https://localhost:8080/",
          "height": 1000
        }
      },
      "source": [
        "%matplotlib inline\n",
        "import matplotlib.pyplot as plt\n",
        "housing.hist(bins=50, figsize=(20,15))\n",
        "save_fig(\"attribute_histogram_plots\")\n",
        "plt.show()"
      ],
      "execution_count": 9,
      "outputs": [
        {
          "output_type": "stream",
          "text": [
            "Saving figure attribute_histogram_plots\n"
          ],
          "name": "stdout"
        },
        {
          "output_type": "display_data",
          "data": {
            "image/png": "[encoded data removed]",
            "text/plain": [
              "<Figure size 1440x1080 with 16 Axes>"
            ]
          },
          "metadata": {
            "tags": []
          }
        }
      ]
    },
    {
      "cell_type": "code",
      "metadata": {
        "id": "Fjn2B8gIYyj9",
        "colab_type": "code",
        "colab": {}
      },
      "source": [
        "import numpy as np\n",
        "\n",
        "# For illustration only. Sklearn has train_test_split()\n",
        "def split_train_test(data, test_ratio):\n",
        "    \"\"\"An simple implementation of the spliting into train and test sets\"\"\"\n",
        "    shuffled_indices = np.random.permutation(len(data)) # Give it random indexes\n",
        "    test_set_size = int(len(data) * test_ratio) # split into ratio\n",
        "    test_indices = shuffled_indices[:test_set_size] # extract index of test examples\n",
        "    train_indices = shuffled_indices[test_set_size:] # extract index of train examples\n",
        "    return data.iloc[train_indices], data.iloc[test_indices] # return the splited data"
      ],
      "execution_count": 0,
      "outputs": []
    },
    {
      "cell_type": "code",
      "metadata": {
        "id": "AtJTebzlY5fa",
        "colab_type": "code",
        "outputId": "5a44ff6c-380e-4d7f-ad13-baddddd30dc1",
        "colab": {
          "base_uri": "https://localhost:8080/",
          "height": 34
        }
      },
      "source": [
        "train_set, test_set = split_train_test(housing, 0.2)\n",
        "len(train_set)\n",
        "print(train_set.shape)"
      ],
      "execution_count": 11,
      "outputs": [
        {
          "output_type": "stream",
          "text": [
            "(405, 14)\n"
          ],
          "name": "stdout"
        }
      ]
    },
    {
      "cell_type": "code",
      "metadata": {
        "id": "VZDctlK4Y7ra",
        "colab_type": "code",
        "outputId": "030d2096-7735-4ae4-ef8b-5e18d7adac6a",
        "colab": {
          "base_uri": "https://localhost:8080/",
          "height": 34
        }
      },
      "source": [
        "print(test_set.shape)"
      ],
      "execution_count": 12,
      "outputs": [
        {
          "output_type": "stream",
          "text": [
            "(101, 14)\n"
          ],
          "name": "stdout"
        }
      ]
    },
    {
      "cell_type": "markdown",
      "metadata": {
        "id": "EJ1bQcUtDla3",
        "colab_type": "text"
      },
      "source": [
        "# Step 3. Discover and visualize the data to gain insights"
      ]
    },
    {
      "cell_type": "code",
      "metadata": {
        "id": "JXXdZDwCDn1c",
        "colab_type": "code",
        "colab": {}
      },
      "source": [
        "housing = train_set.copy()"
      ],
      "execution_count": 0,
      "outputs": []
    },
    {
      "cell_type": "code",
      "metadata": {
        "id": "u9cd9J-2Ezjr",
        "colab_type": "code",
        "outputId": "9876ed55-f374-446f-cda6-dbb300fd5c07",
        "colab": {
          "base_uri": "https://localhost:8080/",
          "height": 303
        }
      },
      "source": [
        "housing.plot(kind=\"scatter\", x=\"Rooms\", y=\"MEDV\",alpha=0.5)"
      ],
      "execution_count": 14,
      "outputs": [
        {
          "output_type": "execute_result",
          "data": {
            "text/plain": [
              "<matplotlib.axes._subplots.AxesSubplot at 0x7f20b83b9898>"
            ]
          },
          "metadata": {
            "tags": []
          },
          "execution_count": 14
        },
        {
          "output_type": "display_data",
          "data": {
            "image/png": "[encoded data removed]",
            "text/plain": [
              "<Figure size 432x288 with 1 Axes>"
            ]
          },
          "metadata": {
            "tags": []
          }
        }
      ]
    },
    {
      "cell_type": "code",
      "metadata": {
        "id": "cJDe4UGRJlnd",
        "colab_type": "code",
        "colab": {
          "base_uri": "https://localhost:8080/",
          "height": 34
        },
        "outputId": "0221cd72-0ec4-4d39-f766-d717431d5b1f"
      },
      "source": [
        "corr_matrix = housing.corr()\n",
        "corr_matrix.shape"
      ],
      "execution_count": 15,
      "outputs": [
        {
          "output_type": "execute_result",
          "data": {
            "text/plain": [
              "(14, 14)"
            ]
          },
          "metadata": {
            "tags": []
          },
          "execution_count": 15
        }
      ]
    },
    {
      "cell_type": "code",
      "metadata": {
        "id": "FmaDszYEFlrV",
        "colab_type": "code",
        "outputId": "045955bd-7477-4b24-b770-16dfd8c27d83",
        "colab": {
          "base_uri": "https://localhost:8080/",
          "height": 272
        }
      },
      "source": [
        "corr_matrix[\"MEDV\"].sort_values(ascending=False)"
      ],
      "execution_count": 16,
      "outputs": [
        {
          "output_type": "execute_result",
          "data": {
            "text/plain": [
              "MEDV               1.000000\n",
              "Rooms              0.673783\n",
              "Land zone          0.366701\n",
              "Blacks             0.318666\n",
              "Distance           0.221668\n",
              "Charles River      0.158696\n",
              "radial highways   -0.334002\n",
              "Age               -0.366248\n",
              "Crime rate        -0.374031\n",
              "Nitric oxides     -0.402161\n",
              "Tax               -0.423933\n",
              "Business Acre     -0.465466\n",
              "PTRatio           -0.499709\n",
              "%Lower status     -0.736934\n",
              "Name: MEDV, dtype: float64"
            ]
          },
          "metadata": {
            "tags": []
          },
          "execution_count": 16
        }
      ]
    },
    {
      "cell_type": "markdown",
      "metadata": {
        "id": "YKMY8KtMJ5og",
        "colab_type": "text"
      },
      "source": [
        "The highest correlation between 'MEDV' (Median value of owner-occupied homes in $1000s) and the independent variables are 'Rooms', '%Lower status', and 'PTRatio'. "
      ]
    },
    {
      "cell_type": "code",
      "metadata": {
        "id": "BAXTRIExF1BP",
        "colab_type": "code",
        "outputId": "de8d27e3-bc90-4493-ae34-70c9414d60f7",
        "colab": {
          "base_uri": "https://localhost:8080/",
          "height": 798
        }
      },
      "source": [
        "from pandas.plotting import scatter_matrix\n",
        "\n",
        "attributes = [\"MEDV\", \"Rooms\", \"PTRatio\",\n",
        "              \"%Lower status\"]\n",
        "scatter_matrix(housing[attributes], figsize=(12, 8))"
      ],
      "execution_count": 17,
      "outputs": [
        {
          "output_type": "execute_result",
          "data": {
            "text/plain": [
              "array([[<matplotlib.axes._subplots.AxesSubplot object at 0x7f20c636b5f8>,\n",
              "        <matplotlib.axes._subplots.AxesSubplot object at 0x7f20b8277b38>,\n",
              "        <matplotlib.axes._subplots.AxesSubplot object at 0x7f20b6a110f0>,\n",
              "        <matplotlib.axes._subplots.AxesSubplot object at 0x7f20b6a366a0>],\n",
              "       [<matplotlib.axes._subplots.AxesSubplot object at 0x7f20b69e7c50>,\n",
              "        <matplotlib.axes._subplots.AxesSubplot object at 0x7f20b69a6240>,\n",
              "        <matplotlib.axes._subplots.AxesSubplot object at 0x7f20b69567f0>,\n",
              "        <matplotlib.axes._subplots.AxesSubplot object at 0x7f20b6987dd8>],\n",
              "       [<matplotlib.axes._subplots.AxesSubplot object at 0x7f20b6987e10>,\n",
              "        <matplotlib.axes._subplots.AxesSubplot object at 0x7f20b68f5940>,\n",
              "        <matplotlib.axes._subplots.AxesSubplot object at 0x7f20b68a8ef0>,\n",
              "        <matplotlib.axes._subplots.AxesSubplot object at 0x7f20b68654e0>],\n",
              "       [<matplotlib.axes._subplots.AxesSubplot object at 0x7f20b6815a90>,\n",
              "        <matplotlib.axes._subplots.AxesSubplot object at 0x7f20b67d5080>,\n",
              "        <matplotlib.axes._subplots.AxesSubplot object at 0x7f20b6806630>,\n",
              "        <matplotlib.axes._subplots.AxesSubplot object at 0x7f20b67b5be0>]],\n",
              "      dtype=object)"
            ]
          },
          "metadata": {
            "tags": []
          },
          "execution_count": 17
        },
        {
          "output_type": "display_data",
          "data": {
            "image/png": "[encoded data removed]",
            "text/plain": [
              "<Figure size 864x576 with 16 Axes>"
            ]
          },
          "metadata": {
            "tags": []
          }
        }
      ]
    },
    {
      "cell_type": "markdown",
      "metadata": {
        "id": "isJ7T7kNGsJ6",
        "colab_type": "text"
      },
      "source": [
        "#Step 4. Prepare the data for Machine Learning algorithms (aka Data Cleaning)"
      ]
    },
    {
      "cell_type": "code",
      "metadata": {
        "id": "wW3Fr8xBGtxV",
        "colab_type": "code",
        "colab": {}
      },
      "source": [
        "housing = train_set.drop(\"MEDV\", axis=1) # drop labels for training set\n",
        "housing_labels = train_set[\"MEDV\"].copy()"
      ],
      "execution_count": 0,
      "outputs": []
    },
    {
      "cell_type": "code",
      "metadata": {
        "id": "ZP0sE8yVHCxQ",
        "colab_type": "code",
        "colab": {
          "base_uri": "https://localhost:8080/",
          "height": 86
        },
        "outputId": "55ecaab4-42ee-4088-fd71-9249ac34723f"
      },
      "source": [
        "# Check to see if there's any missing value in the data with .isnull()\n",
        "sample_incomplete_rows = housing[housing.isnull().any(axis=1)].head()\n",
        "sample_incomplete_rows"
      ],
      "execution_count": 19,
      "outputs": [
        {
          "output_type": "execute_result",
          "data": {
            "text/html": [
              "<div>\n",
              "<style scoped>\n",
              "    .dataframe tbody tr th:only-of-type {\n",
              "        vertical-align: middle;\n",
              "    }\n",
              "\n",
              "    .dataframe tbody tr th {\n",
              "        vertical-align: top;\n",
              "    }\n",
              "\n",
              "    .dataframe thead th {\n",
              "        text-align: right;\n",
              "    }\n",
              "</style>\n",
              "<table border=\"1\" class=\"dataframe\">\n",
              "  <thead>\n",
              "    <tr style=\"text-align: right;\">\n",
              "      <th></th>\n",
              "      <th>Crime rate</th>\n",
              "      <th>Land zone</th>\n",
              "      <th>Business Acre</th>\n",
              "      <th>Charles River</th>\n",
              "      <th>Nitric oxides</th>\n",
              "      <th>Rooms</th>\n",
              "      <th>Age</th>\n",
              "      <th>Distance</th>\n",
              "      <th>radial highways</th>\n",
              "      <th>Tax</th>\n",
              "      <th>PTRatio</th>\n",
              "      <th>Blacks</th>\n",
              "      <th>%Lower status</th>\n",
              "    </tr>\n",
              "  </thead>\n",
              "  <tbody>\n",
              "  </tbody>\n",
              "</table>\n",
              "</div>"
            ],
            "text/plain": [
              "Empty DataFrame\n",
              "Columns: [Crime rate, Land zone, Business Acre, Charles River, Nitric oxides, Rooms, Age, Distance, radial highways, Tax, PTRatio, Blacks, %Lower status]\n",
              "Index: []"
            ]
          },
          "metadata": {
            "tags": []
          },
          "execution_count": 19
        }
      ]
    },
    {
      "cell_type": "code",
      "metadata": {
        "id": "icF531mkHZfV",
        "colab_type": "code",
        "colab": {}
      },
      "source": [
        "# Scikit-Learn has a handy class to take care of this: the SimpleImputer class.\n",
        "from sklearn.impute import SimpleImputer\n",
        "imputer = SimpleImputer(strategy=\"median\")"
      ],
      "execution_count": 0,
      "outputs": []
    },
    {
      "cell_type": "code",
      "metadata": {
        "id": "sRpjkVhJH-wS",
        "colab_type": "code",
        "outputId": "4d832cf2-01e4-4d51-99e5-c440f514f8eb",
        "colab": {
          "base_uri": "https://localhost:8080/",
          "height": 51
        }
      },
      "source": [
        "imputer.fit(housing)"
      ],
      "execution_count": 21,
      "outputs": [
        {
          "output_type": "execute_result",
          "data": {
            "text/plain": [
              "SimpleImputer(add_indicator=False, copy=True, fill_value=None,\n",
              "              missing_values=nan, strategy='median', verbose=0)"
            ]
          },
          "metadata": {
            "tags": []
          },
          "execution_count": 21
        }
      ]
    },
    {
      "cell_type": "code",
      "metadata": {
        "id": "62mVepUjICq4",
        "colab_type": "code",
        "outputId": "8adc6e3d-4c07-412c-fd14-50cc12e7b98b",
        "colab": {
          "base_uri": "https://localhost:8080/",
          "height": 68
        }
      },
      "source": [
        "imputer.statistics_"
      ],
      "execution_count": 22,
      "outputs": [
        {
          "output_type": "execute_result",
          "data": {
            "text/plain": [
              "array([2.6363e-01, 0.0000e+00, 8.5600e+00, 0.0000e+00, 5.3200e-01,\n",
              "       6.2230e+00, 7.6700e+01, 3.3633e+00, 5.0000e+00, 3.2900e+02,\n",
              "       1.8800e+01, 3.9113e+02, 1.0740e+01])"
            ]
          },
          "metadata": {
            "tags": []
          },
          "execution_count": 22
        }
      ]
    },
    {
      "cell_type": "markdown",
      "metadata": {
        "colab_type": "text",
        "id": "EHnkgEJtJ_jI"
      },
      "source": [
        "Transfer the training set."
      ]
    },
    {
      "cell_type": "code",
      "metadata": {
        "colab_type": "code",
        "id": "uT6Qv-7sJ_EX",
        "colab": {
          "base_uri": "https://localhost:8080/",
          "height": 136
        },
        "outputId": "3fa58f62-3e35-4376-d916-843ec98c7a84"
      },
      "source": [
        "X = imputer.transform(housing)\n",
        "print(X)"
      ],
      "execution_count": 23,
      "outputs": [
        {
          "output_type": "stream",
          "text": [
            "[[1.4932e-01 2.5000e+01 5.1300e+00 ... 1.9700e+01 3.9511e+02 1.3150e+01]\n",
            " [8.8125e-01 0.0000e+00 2.1890e+01 ... 2.1200e+01 3.9690e+02 1.8340e+01]\n",
            " [6.6170e-02 0.0000e+00 3.2400e+00 ... 1.6900e+01 3.8244e+02 9.9700e+00]\n",
            " ...\n",
            " [1.0793e-01 0.0000e+00 8.5600e+00 ... 2.0900e+01 3.9349e+02 1.3000e+01]\n",
            " [4.5440e-02 0.0000e+00 3.2400e+00 ... 1.6900e+01 3.6857e+02 9.0900e+00]\n",
            " [1.9657e-01 2.2000e+01 5.8600e+00 ... 1.9100e+01 3.7614e+02 1.0150e+01]]\n"
          ],
          "name": "stdout"
        }
      ]
    },
    {
      "cell_type": "code",
      "metadata": {
        "colab_type": "code",
        "id": "Y9LtybBBJ-U_",
        "colab": {}
      },
      "source": [
        "housing_tr = pd.DataFrame(X, columns=housing.columns,\n",
        "                          index=housing.index)\n",
        "housing_tr.loc[sample_incomplete_rows.index.values]\n",
        "housing_tr = pd.DataFrame(X, columns=housing.columns,\n",
        "                          index=housing.index)"
      ],
      "execution_count": 0,
      "outputs": []
    },
    {
      "cell_type": "markdown",
      "metadata": {
        "id": "1xPJM2qSKv84",
        "colab_type": "text"
      },
      "source": [
        "To standardize the scales of inputs"
      ]
    },
    {
      "cell_type": "code",
      "metadata": {
        "id": "5b-swqHxKvdv",
        "colab_type": "code",
        "colab": {}
      },
      "source": [
        "from sklearn.pipeline import Pipeline\n",
        "from sklearn.preprocessing import StandardScaler\n",
        "num_pipeline = Pipeline([\n",
        "        ('imputer', SimpleImputer(strategy=\"median\")),\n",
        "        ('std_scaler', StandardScaler()),\n",
        "    ])\n",
        "\n",
        "housing_num_tr = num_pipeline.fit_transform(housing)"
      ],
      "execution_count": 0,
      "outputs": []
    },
    {
      "cell_type": "code",
      "metadata": {
        "id": "OLJ_FpmmMH91",
        "colab_type": "code",
        "colab": {}
      },
      "source": [
        "from sklearn.compose import ColumnTransformer\n",
        "\n",
        "num_attribs = list(housing)\n",
        "\n",
        "full_pipeline = ColumnTransformer([\n",
        "        (\"num\", num_pipeline, num_attribs),\n",
        "    ])\n",
        "\n",
        "housing_prepared = full_pipeline.fit_transform(housing)"
      ],
      "execution_count": 0,
      "outputs": []
    },
    {
      "cell_type": "code",
      "metadata": {
        "id": "L6F-Y-W3MXhU",
        "colab_type": "code",
        "colab": {
          "base_uri": "https://localhost:8080/",
          "height": 51
        },
        "outputId": "af61355d-4e08-4f44-9c12-ce6b397620a8"
      },
      "source": [
        "print(housing.shape)\n",
        "print(housing_prepared.shape)"
      ],
      "execution_count": 27,
      "outputs": [
        {
          "output_type": "stream",
          "text": [
            "(405, 13)\n",
            "(405, 13)\n"
          ],
          "name": "stdout"
        }
      ]
    },
    {
      "cell_type": "code",
      "metadata": {
        "id": "YX-Dy5FJMbQE",
        "colab_type": "code",
        "colab": {
          "base_uri": "https://localhost:8080/",
          "height": 238
        },
        "outputId": "c01cb5c4-608d-4685-969e-3529b1902cd3"
      },
      "source": [
        "housing_prepared"
      ],
      "execution_count": 28,
      "outputs": [
        {
          "output_type": "execute_result",
          "data": {
            "text/plain": [
              "array([[-0.40336926,  0.58857438, -0.84864394, ...,  0.60686296,\n",
              "         0.41913681,  0.12403316],\n",
              "       [-0.30764578, -0.48828063,  1.61076403, ...,  1.305762  ,\n",
              "         0.44011716,  0.86990347],\n",
              "       [-0.41424381, -0.48828063, -1.12598768, ..., -0.69774859,\n",
              "         0.27063351, -0.33297408],\n",
              "       ...,\n",
              "       [-0.40878234, -0.48828063, -0.34531642, ...,  1.16598219,\n",
              "         0.40014902,  0.10247622],\n",
              "       [-0.41695493, -0.48828063, -1.12598768, ..., -0.69774859,\n",
              "         0.10806518, -0.45944149],\n",
              "       [-0.3971898 ,  0.45935178, -0.74152176, ...,  0.32730334,\n",
              "         0.19679209, -0.30710574]])"
            ]
          },
          "metadata": {
            "tags": []
          },
          "execution_count": 28
        }
      ]
    },
    {
      "cell_type": "markdown",
      "metadata": {
        "id": "KG_434x4MfX4",
        "colab_type": "text"
      },
      "source": [
        "# Step 5. Select and train a model"
      ]
    },
    {
      "cell_type": "markdown",
      "metadata": {
        "id": "rLslpel9Q7PO",
        "colab_type": "text"
      },
      "source": [
        "Linear Regression"
      ]
    },
    {
      "cell_type": "code",
      "metadata": {
        "id": "0RpxupkpMfIL",
        "colab_type": "code",
        "colab": {
          "base_uri": "https://localhost:8080/",
          "height": 34
        },
        "outputId": "a62ee682-a7b9-4b45-fa23-47d1bc3b3c96"
      },
      "source": [
        "from sklearn.linear_model import LinearRegression\n",
        "\n",
        "lin_reg = LinearRegression()\n",
        "lin_reg.fit(housing_prepared, housing_labels)"
      ],
      "execution_count": 29,
      "outputs": [
        {
          "output_type": "execute_result",
          "data": {
            "text/plain": [
              "LinearRegression(copy_X=True, fit_intercept=True, n_jobs=None, normalize=False)"
            ]
          },
          "metadata": {
            "tags": []
          },
          "execution_count": 29
        }
      ]
    },
    {
      "cell_type": "code",
      "metadata": {
        "id": "jNViUxePM3wB",
        "colab_type": "code",
        "colab": {
          "base_uri": "https://localhost:8080/",
          "height": 34
        },
        "outputId": "1f599b6a-3042-4e3d-a3e9-d4f87557d0c3"
      },
      "source": [
        "# let's try the full preprocessing pipeline on a few training instances\n",
        "some_data = housing.iloc[:5]\n",
        "some_labels = housing_labels.iloc[:5]\n",
        "some_data_prepared = full_pipeline.transform(some_data)\n",
        "# Note here that you only use transform() instead of fit_tranform becausue you are not trying to learn any parameter (ie. median)\n",
        "\n",
        "print(\"Predictions:\", lin_reg.predict(some_data_prepared))"
      ],
      "execution_count": 30,
      "outputs": [
        {
          "output_type": "stream",
          "text": [
            "Predictions: [17.66216364 13.92078024 20.70354055 24.28936697 30.41878718]\n"
          ],
          "name": "stdout"
        }
      ]
    },
    {
      "cell_type": "code",
      "metadata": {
        "id": "TlcqDgK0M851",
        "colab_type": "code",
        "colab": {
          "base_uri": "https://localhost:8080/",
          "height": 34
        },
        "outputId": "511903b4-ed60-4364-ec7a-9c6c53ef14fc"
      },
      "source": [
        "print(\"Labels:\", list(some_labels))"
      ],
      "execution_count": 31,
      "outputs": [
        {
          "output_type": "stream",
          "text": [
            "Labels: [18.7, 14.3, 19.3, 23.1, 34.7]\n"
          ],
          "name": "stdout"
        }
      ]
    },
    {
      "cell_type": "code",
      "metadata": {
        "id": "kpC4g5yjNBsp",
        "colab_type": "code",
        "colab": {
          "base_uri": "https://localhost:8080/",
          "height": 34
        },
        "outputId": "4b71136c-3f83-4036-8630-4dbe35d9671a"
      },
      "source": [
        "from sklearn.metrics import mean_squared_error\n",
        "\n",
        "housing_predictions = lin_reg.predict(housing_prepared)\n",
        "lin_mse = mean_squared_error(housing_labels, housing_predictions)\n",
        "lin_rmse = np.sqrt(lin_mse)\n",
        "lin_rmse"
      ],
      "execution_count": 32,
      "outputs": [
        {
          "output_type": "execute_result",
          "data": {
            "text/plain": [
              "4.741308114189465"
            ]
          },
          "metadata": {
            "tags": []
          },
          "execution_count": 32
        }
      ]
    },
    {
      "cell_type": "code",
      "metadata": {
        "id": "AtKFjzclNO-p",
        "colab_type": "code",
        "colab": {
          "base_uri": "https://localhost:8080/",
          "height": 34
        },
        "outputId": "c8e5ee11-ec89-417e-ddc6-da980bdaa76c"
      },
      "source": [
        "from sklearn.metrics import mean_absolute_error\n",
        "\n",
        "lin_mae = mean_absolute_error(housing_labels, housing_predictions)\n",
        "lin_mae"
      ],
      "execution_count": 33,
      "outputs": [
        {
          "output_type": "execute_result",
          "data": {
            "text/plain": [
              "3.3461624553614118"
            ]
          },
          "metadata": {
            "tags": []
          },
          "execution_count": 33
        }
      ]
    },
    {
      "cell_type": "markdown",
      "metadata": {
        "id": "fA0f0jLLRAjv",
        "colab_type": "text"
      },
      "source": [
        "Decision Tree Regressor"
      ]
    },
    {
      "cell_type": "code",
      "metadata": {
        "id": "XoJ6NvlsRErk",
        "colab_type": "code",
        "colab": {
          "base_uri": "https://localhost:8080/",
          "height": 119
        },
        "outputId": "b2826c63-6cf8-4624-c88a-307932b08088"
      },
      "source": [
        "from sklearn.tree import DecisionTreeRegressor\n",
        "\n",
        "tree_reg = DecisionTreeRegressor(random_state=42)\n",
        "tree_reg.fit(housing_prepared, housing_labels)"
      ],
      "execution_count": 34,
      "outputs": [
        {
          "output_type": "execute_result",
          "data": {
            "text/plain": [
              "DecisionTreeRegressor(ccp_alpha=0.0, criterion='mse', max_depth=None,\n",
              "                      max_features=None, max_leaf_nodes=None,\n",
              "                      min_impurity_decrease=0.0, min_impurity_split=None,\n",
              "                      min_samples_leaf=1, min_samples_split=2,\n",
              "                      min_weight_fraction_leaf=0.0, presort='deprecated',\n",
              "                      random_state=42, splitter='best')"
            ]
          },
          "metadata": {
            "tags": []
          },
          "execution_count": 34
        }
      ]
    },
    {
      "cell_type": "markdown",
      "metadata": {
        "id": "w667YdKVRca7",
        "colab_type": "text"
      },
      "source": [
        "Highly ikely to be overfitted, so we apply the RMSE 5-fold Cross Validation\n"
      ]
    },
    {
      "cell_type": "code",
      "metadata": {
        "id": "SFd14R8yRgIA",
        "colab_type": "code",
        "colab": {}
      },
      "source": [
        "from sklearn.model_selection import cross_val_score\n",
        "\n",
        "scores = cross_val_score(tree_reg, housing_prepared, housing_labels,\n",
        "                         scoring=\"neg_mean_squared_error\", cv=5)\n",
        "tree_rmse_scores = np.sqrt(-scores)"
      ],
      "execution_count": 0,
      "outputs": []
    },
    {
      "cell_type": "code",
      "metadata": {
        "id": "0vf3bpZZRkEZ",
        "colab_type": "code",
        "colab": {
          "base_uri": "https://localhost:8080/",
          "height": 68
        },
        "outputId": "07907e22-cc00-45db-9380-c9523e5df199"
      },
      "source": [
        "def display_scores(scores):\n",
        "    print(\"Scores:\", scores)\n",
        "    print(\"Mean:\", scores.mean())\n",
        "    print(\"Standard deviation:\", scores.std())\n",
        "\n",
        "display_scores(tree_rmse_scores)"
      ],
      "execution_count": 36,
      "outputs": [
        {
          "output_type": "stream",
          "text": [
            "Scores: [4.03201693 3.63333333 5.1712047  5.15003296 4.31722076]\n",
            "Mean: 4.460761735110812\n",
            "Standard deviation: 0.6113735209161012\n"
          ],
          "name": "stdout"
        }
      ]
    },
    {
      "cell_type": "markdown",
      "metadata": {
        "id": "vXUJJiJgRvkw",
        "colab_type": "text"
      },
      "source": [
        "Same score for linear regression model"
      ]
    },
    {
      "cell_type": "code",
      "metadata": {
        "id": "ozNWvJNwR06w",
        "colab_type": "code",
        "colab": {
          "base_uri": "https://localhost:8080/",
          "height": 68
        },
        "outputId": "2dc8cf66-143f-4334-a835-d8c6b1e99a33"
      },
      "source": [
        "lin_scores = cross_val_score(lin_reg, housing_prepared, housing_labels,\n",
        "                             scoring=\"neg_mean_squared_error\", cv=5)\n",
        "lin_rmse_scores = np.sqrt(-lin_scores)\n",
        "display_scores(lin_rmse_scores)"
      ],
      "execution_count": 37,
      "outputs": [
        {
          "output_type": "stream",
          "text": [
            "Scores: [5.71250876 5.15818026 4.92285957 4.6333671  4.57952378]\n",
            "Mean: 5.001287894467557\n",
            "Standard deviation: 0.4122746675263314\n"
          ],
          "name": "stdout"
        }
      ]
    },
    {
      "cell_type": "markdown",
      "metadata": {
        "id": "2-yAjR0YR5lC",
        "colab_type": "text"
      },
      "source": [
        "Random Forest Regressor"
      ]
    },
    {
      "cell_type": "code",
      "metadata": {
        "id": "86BW8igOR67A",
        "colab_type": "code",
        "colab": {
          "base_uri": "https://localhost:8080/",
          "height": 136
        },
        "outputId": "e2052f3d-0c87-4b6a-9e73-e768a097ddcf"
      },
      "source": [
        "from sklearn.ensemble import RandomForestRegressor\n",
        "\n",
        "forest_reg = RandomForestRegressor(n_estimators=100, random_state=42)\n",
        "forest_reg.fit(housing_prepared, housing_labels)"
      ],
      "execution_count": 38,
      "outputs": [
        {
          "output_type": "execute_result",
          "data": {
            "text/plain": [
              "RandomForestRegressor(bootstrap=True, ccp_alpha=0.0, criterion='mse',\n",
              "                      max_depth=None, max_features='auto', max_leaf_nodes=None,\n",
              "                      max_samples=None, min_impurity_decrease=0.0,\n",
              "                      min_impurity_split=None, min_samples_leaf=1,\n",
              "                      min_samples_split=2, min_weight_fraction_leaf=0.0,\n",
              "                      n_estimators=100, n_jobs=None, oob_score=False,\n",
              "                      random_state=42, verbose=0, warm_start=False)"
            ]
          },
          "metadata": {
            "tags": []
          },
          "execution_count": 38
        }
      ]
    },
    {
      "cell_type": "code",
      "metadata": {
        "id": "jSgROXm9SDUq",
        "colab_type": "code",
        "colab": {
          "base_uri": "https://localhost:8080/",
          "height": 34
        },
        "outputId": "8dc8b684-08aa-4b95-aaa4-489fd7e5ac96"
      },
      "source": [
        "housing_predictions = forest_reg.predict(housing_prepared)\n",
        "forest_mse = mean_squared_error(housing_labels, housing_predictions)\n",
        "forest_rmse = np.sqrt(forest_mse)\n",
        "forest_rmse"
      ],
      "execution_count": 39,
      "outputs": [
        {
          "output_type": "execute_result",
          "data": {
            "text/plain": [
              "1.3260721355348566"
            ]
          },
          "metadata": {
            "tags": []
          },
          "execution_count": 39
        }
      ]
    },
    {
      "cell_type": "markdown",
      "metadata": {
        "id": "vrzxycDNSInW",
        "colab_type": "text"
      },
      "source": [
        "This is likely to be overfitted, so we apply the RMSE 5-fold Cross Validation."
      ]
    },
    {
      "cell_type": "code",
      "metadata": {
        "id": "B0AGpCxYSMMK",
        "colab_type": "code",
        "colab": {
          "base_uri": "https://localhost:8080/",
          "height": 68
        },
        "outputId": "0a8e10cf-0c55-4ae8-b267-f996280c528c"
      },
      "source": [
        "from sklearn.model_selection import cross_val_score\n",
        "\n",
        "forest_scores = cross_val_score(forest_reg, housing_prepared, housing_labels,\n",
        "                                scoring=\"neg_mean_squared_error\", cv=5)\n",
        "forest_rmse_scores = np.sqrt(-forest_scores)\n",
        "display_scores(forest_rmse_scores)"
      ],
      "execution_count": 40,
      "outputs": [
        {
          "output_type": "stream",
          "text": [
            "Scores: [3.13797347 3.2570173  3.58966761 4.1515336  3.06685705]\n",
            "Mean: 3.440609806052916\n",
            "Standard deviation: 0.3981499618512443\n"
          ],
          "name": "stdout"
        }
      ]
    },
    {
      "cell_type": "code",
      "metadata": {
        "id": "BjKPA6DTSQzP",
        "colab_type": "code",
        "colab": {
          "base_uri": "https://localhost:8080/",
          "height": 170
        },
        "outputId": "d06f01f0-b68d-479f-de32-011d81359d05"
      },
      "source": [
        "scores = cross_val_score(lin_reg, housing_prepared, housing_labels, scoring=\"neg_mean_squared_error\", cv=10)\n",
        "pd.Series(np.sqrt(-scores)).describe()"
      ],
      "execution_count": 41,
      "outputs": [
        {
          "output_type": "execute_result",
          "data": {
            "text/plain": [
              "count    10.000000\n",
              "mean      4.878920\n",
              "std       1.010755\n",
              "min       3.027770\n",
              "25%       4.231098\n",
              "50%       4.847177\n",
              "75%       5.642854\n",
              "max       6.457100\n",
              "dtype: float64"
            ]
          },
          "metadata": {
            "tags": []
          },
          "execution_count": 41
        }
      ]
    },
    {
      "cell_type": "markdown",
      "metadata": {
        "id": "upTtuIH_SVV4",
        "colab_type": "text"
      },
      "source": [
        "# Step 6. Fine tune your model"
      ]
    },
    {
      "cell_type": "code",
      "metadata": {
        "id": "LzNVVw7lSWht",
        "colab_type": "code",
        "colab": {
          "base_uri": "https://localhost:8080/",
          "height": 374
        },
        "outputId": "872c44c3-92d7-4820-9969-7aa75bb8be1a"
      },
      "source": [
        "from sklearn.model_selection import GridSearchCV\n",
        "\n",
        "param_grid = [\n",
        "    # try 12 (3×4) combinations of hyperparameters\n",
        "    {'n_estimators': [3, 10, 30], 'max_features': [2, 4, 6, 8]},\n",
        "    # then try 6 (2×3) combinations with bootstrap set as False\n",
        "    {'bootstrap': [False], 'n_estimators': [3, 10], 'max_features': [2, 3, 4]},\n",
        "  ]\n",
        "\n",
        "forest_reg = RandomForestRegressor(random_state=42)\n",
        "# train across 5 folds\n",
        "grid_search = GridSearchCV(forest_reg, param_grid, cv=5,\n",
        "                           scoring='neg_mean_squared_error',\n",
        "                           return_train_score=True)\n",
        "grid_search.fit(housing_prepared, housing_labels)"
      ],
      "execution_count": 42,
      "outputs": [
        {
          "output_type": "execute_result",
          "data": {
            "text/plain": [
              "GridSearchCV(cv=5, error_score=nan,\n",
              "             estimator=RandomForestRegressor(bootstrap=True, ccp_alpha=0.0,\n",
              "                                             criterion='mse', max_depth=None,\n",
              "                                             max_features='auto',\n",
              "                                             max_leaf_nodes=None,\n",
              "                                             max_samples=None,\n",
              "                                             min_impurity_decrease=0.0,\n",
              "                                             min_impurity_split=None,\n",
              "                                             min_samples_leaf=1,\n",
              "                                             min_samples_split=2,\n",
              "                                             min_weight_fraction_leaf=0.0,\n",
              "                                             n_estimators=100, n_jobs=None,\n",
              "                                             oob_score=False, random_state=42,\n",
              "                                             verbose=0, warm_start=False),\n",
              "             iid='deprecated', n_jobs=None,\n",
              "             param_grid=[{'max_features': [2, 4, 6, 8],\n",
              "                          'n_estimators': [3, 10, 30]},\n",
              "                         {'bootstrap': [False], 'max_features': [2, 3, 4],\n",
              "                          'n_estimators': [3, 10]}],\n",
              "             pre_dispatch='2*n_jobs', refit=True, return_train_score=True,\n",
              "             scoring='neg_mean_squared_error', verbose=0)"
            ]
          },
          "metadata": {
            "tags": []
          },
          "execution_count": 42
        }
      ]
    },
    {
      "cell_type": "code",
      "metadata": {
        "id": "4fa4nk5FSpEK",
        "colab_type": "code",
        "colab": {
          "base_uri": "https://localhost:8080/",
          "height": 34
        },
        "outputId": "ecc6d928-2f06-4649-d0a3-476265382b3d"
      },
      "source": [
        "grid_search.best_params_"
      ],
      "execution_count": 43,
      "outputs": [
        {
          "output_type": "execute_result",
          "data": {
            "text/plain": [
              "{'max_features': 8, 'n_estimators': 30}"
            ]
          },
          "metadata": {
            "tags": []
          },
          "execution_count": 43
        }
      ]
    },
    {
      "cell_type": "code",
      "metadata": {
        "id": "-qB1ROt1Sskc",
        "colab_type": "code",
        "colab": {
          "base_uri": "https://localhost:8080/",
          "height": 136
        },
        "outputId": "0b777e94-c65a-4d75-fe71-6ee24851c2f3"
      },
      "source": [
        "grid_search.best_estimator_"
      ],
      "execution_count": 44,
      "outputs": [
        {
          "output_type": "execute_result",
          "data": {
            "text/plain": [
              "RandomForestRegressor(bootstrap=True, ccp_alpha=0.0, criterion='mse',\n",
              "                      max_depth=None, max_features=8, max_leaf_nodes=None,\n",
              "                      max_samples=None, min_impurity_decrease=0.0,\n",
              "                      min_impurity_split=None, min_samples_leaf=1,\n",
              "                      min_samples_split=2, min_weight_fraction_leaf=0.0,\n",
              "                      n_estimators=30, n_jobs=None, oob_score=False,\n",
              "                      random_state=42, verbose=0, warm_start=False)"
            ]
          },
          "metadata": {
            "tags": []
          },
          "execution_count": 44
        }
      ]
    },
    {
      "cell_type": "markdown",
      "metadata": {
        "id": "NlAyAmD0S5fy",
        "colab_type": "text"
      },
      "source": [
        "Score of each hyperparameter combination tested during the grid search:"
      ]
    },
    {
      "cell_type": "code",
      "metadata": {
        "id": "OUjaNYV3S7eA",
        "colab_type": "code",
        "colab": {
          "base_uri": "https://localhost:8080/",
          "height": 323
        },
        "outputId": "dcc634af-c10d-489f-b241-c85ad3edcb68"
      },
      "source": [
        "cvres = grid_search.cv_results_\n",
        "# zip() is to combine the column \"mean_test_score\" with struct \"params\"\n",
        "for mean_score, params in zip(cvres[\"mean_test_score\"], cvres[\"params\"]):\n",
        "    print(np.sqrt(-mean_score), params)"
      ],
      "execution_count": 45,
      "outputs": [
        {
          "output_type": "stream",
          "text": [
            "4.839539934374551 {'max_features': 2, 'n_estimators': 3}\n",
            "4.113143851809588 {'max_features': 2, 'n_estimators': 10}\n",
            "3.9891535762795645 {'max_features': 2, 'n_estimators': 30}\n",
            "4.707330768382754 {'max_features': 4, 'n_estimators': 3}\n",
            "3.9244473700756677 {'max_features': 4, 'n_estimators': 10}\n",
            "3.6216588821954105 {'max_features': 4, 'n_estimators': 30}\n",
            "4.708166153847582 {'max_features': 6, 'n_estimators': 3}\n",
            "3.667781884275193 {'max_features': 6, 'n_estimators': 10}\n",
            "3.5272710630547484 {'max_features': 6, 'n_estimators': 30}\n",
            "3.8988623433017557 {'max_features': 8, 'n_estimators': 3}\n",
            "3.604890128631686 {'max_features': 8, 'n_estimators': 10}\n",
            "3.445956450296321 {'max_features': 8, 'n_estimators': 30}\n",
            "4.321712813930437 {'bootstrap': False, 'max_features': 2, 'n_estimators': 3}\n",
            "4.000557924053056 {'bootstrap': False, 'max_features': 2, 'n_estimators': 10}\n",
            "4.26077943885996 {'bootstrap': False, 'max_features': 3, 'n_estimators': 3}\n",
            "3.448626063868778 {'bootstrap': False, 'max_features': 3, 'n_estimators': 10}\n",
            "4.030462876813498 {'bootstrap': False, 'max_features': 4, 'n_estimators': 3}\n",
            "3.5968388727524627 {'bootstrap': False, 'max_features': 4, 'n_estimators': 10}\n"
          ],
          "name": "stdout"
        }
      ]
    },
    {
      "cell_type": "code",
      "metadata": {
        "id": "kYfmKbChTDL1",
        "colab_type": "code",
        "colab": {
          "base_uri": "https://localhost:8080/",
          "height": 1000
        },
        "outputId": "27f9b4ff-eb43-46b0-9dba-5920b5b74f4c"
      },
      "source": [
        "pd.DataFrame(grid_search.cv_results_)"
      ],
      "execution_count": 46,
      "outputs": [
        {
          "output_type": "execute_result",
          "data": {
            "text/html": [
              "<div>\n",
              "<style scoped>\n",
              "    .dataframe tbody tr th:only-of-type {\n",
              "        vertical-align: middle;\n",
              "    }\n",
              "\n",
              "    .dataframe tbody tr th {\n",
              "        vertical-align: top;\n",
              "    }\n",
              "\n",
              "    .dataframe thead th {\n",
              "        text-align: right;\n",
              "    }\n",
              "</style>\n",
              "<table border=\"1\" class=\"dataframe\">\n",
              "  <thead>\n",
              "    <tr style=\"text-align: right;\">\n",
              "      <th></th>\n",
              "      <th>mean_fit_time</th>\n",
              "      <th>std_fit_time</th>\n",
              "      <th>mean_score_time</th>\n",
              "      <th>std_score_time</th>\n",
              "      <th>param_max_features</th>\n",
              "      <th>param_n_estimators</th>\n",
              "      <th>param_bootstrap</th>\n",
              "      <th>params</th>\n",
              "      <th>split0_test_score</th>\n",
              "      <th>split1_test_score</th>\n",
              "      <th>split2_test_score</th>\n",
              "      <th>split3_test_score</th>\n",
              "      <th>split4_test_score</th>\n",
              "      <th>mean_test_score</th>\n",
              "      <th>std_test_score</th>\n",
              "      <th>rank_test_score</th>\n",
              "      <th>split0_train_score</th>\n",
              "      <th>split1_train_score</th>\n",
              "      <th>split2_train_score</th>\n",
              "      <th>split3_train_score</th>\n",
              "      <th>split4_train_score</th>\n",
              "      <th>mean_train_score</th>\n",
              "      <th>std_train_score</th>\n",
              "    </tr>\n",
              "  </thead>\n",
              "  <tbody>\n",
              "    <tr>\n",
              "      <th>0</th>\n",
              "      <td>0.006922</td>\n",
              "      <td>0.002435</td>\n",
              "      <td>0.001173</td>\n",
              "      <td>0.000549</td>\n",
              "      <td>2</td>\n",
              "      <td>3</td>\n",
              "      <td>NaN</td>\n",
              "      <td>{'max_features': 2, 'n_estimators': 3}</td>\n",
              "      <td>-24.986927</td>\n",
              "      <td>-26.678546</td>\n",
              "      <td>-25.947929</td>\n",
              "      <td>-23.377723</td>\n",
              "      <td>-16.114609</td>\n",
              "      <td>-23.421147</td>\n",
              "      <td>3.816656</td>\n",
              "      <td>18</td>\n",
              "      <td>-4.073392e+00</td>\n",
              "      <td>-5.227030e+00</td>\n",
              "      <td>-5.277329e+00</td>\n",
              "      <td>-5.125720e+00</td>\n",
              "      <td>-7.802363e+00</td>\n",
              "      <td>-5.501167e+00</td>\n",
              "      <td>1.232904e+00</td>\n",
              "    </tr>\n",
              "    <tr>\n",
              "      <th>1</th>\n",
              "      <td>0.017744</td>\n",
              "      <td>0.001721</td>\n",
              "      <td>0.001527</td>\n",
              "      <td>0.000088</td>\n",
              "      <td>2</td>\n",
              "      <td>10</td>\n",
              "      <td>NaN</td>\n",
              "      <td>{'max_features': 2, 'n_estimators': 10}</td>\n",
              "      <td>-20.049126</td>\n",
              "      <td>-20.922583</td>\n",
              "      <td>-13.422328</td>\n",
              "      <td>-12.863856</td>\n",
              "      <td>-17.331869</td>\n",
              "      <td>-16.917952</td>\n",
              "      <td>3.306591</td>\n",
              "      <td>13</td>\n",
              "      <td>-2.785649e+00</td>\n",
              "      <td>-2.968565e+00</td>\n",
              "      <td>-2.996122e+00</td>\n",
              "      <td>-2.592860e+00</td>\n",
              "      <td>-3.650620e+00</td>\n",
              "      <td>-2.998763e+00</td>\n",
              "      <td>3.566544e-01</td>\n",
              "    </tr>\n",
              "    <tr>\n",
              "      <th>2</th>\n",
              "      <td>0.047174</td>\n",
              "      <td>0.000426</td>\n",
              "      <td>0.002825</td>\n",
              "      <td>0.000108</td>\n",
              "      <td>2</td>\n",
              "      <td>30</td>\n",
              "      <td>NaN</td>\n",
              "      <td>{'max_features': 2, 'n_estimators': 30}</td>\n",
              "      <td>-21.202048</td>\n",
              "      <td>-18.143844</td>\n",
              "      <td>-11.762333</td>\n",
              "      <td>-12.459963</td>\n",
              "      <td>-15.998543</td>\n",
              "      <td>-15.913346</td>\n",
              "      <td>3.524472</td>\n",
              "      <td>10</td>\n",
              "      <td>-2.431944e+00</td>\n",
              "      <td>-2.307530e+00</td>\n",
              "      <td>-2.312766e+00</td>\n",
              "      <td>-2.500257e+00</td>\n",
              "      <td>-2.527773e+00</td>\n",
              "      <td>-2.416054e+00</td>\n",
              "      <td>9.194514e-02</td>\n",
              "    </tr>\n",
              "    <tr>\n",
              "      <th>3</th>\n",
              "      <td>0.006551</td>\n",
              "      <td>0.000268</td>\n",
              "      <td>0.000967</td>\n",
              "      <td>0.000050</td>\n",
              "      <td>4</td>\n",
              "      <td>3</td>\n",
              "      <td>NaN</td>\n",
              "      <td>{'max_features': 4, 'n_estimators': 3}</td>\n",
              "      <td>-24.912579</td>\n",
              "      <td>-27.157490</td>\n",
              "      <td>-15.842606</td>\n",
              "      <td>-18.428848</td>\n",
              "      <td>-24.453292</td>\n",
              "      <td>-22.158963</td>\n",
              "      <td>4.281162</td>\n",
              "      <td>16</td>\n",
              "      <td>-5.041759e+00</td>\n",
              "      <td>-8.105525e+00</td>\n",
              "      <td>-7.580809e+00</td>\n",
              "      <td>-7.892226e+00</td>\n",
              "      <td>-9.995988e+00</td>\n",
              "      <td>-7.723261e+00</td>\n",
              "      <td>1.584342e+00</td>\n",
              "    </tr>\n",
              "    <tr>\n",
              "      <th>4</th>\n",
              "      <td>0.018769</td>\n",
              "      <td>0.000541</td>\n",
              "      <td>0.001555</td>\n",
              "      <td>0.000151</td>\n",
              "      <td>4</td>\n",
              "      <td>10</td>\n",
              "      <td>NaN</td>\n",
              "      <td>{'max_features': 4, 'n_estimators': 10}</td>\n",
              "      <td>-19.684362</td>\n",
              "      <td>-18.626141</td>\n",
              "      <td>-11.760327</td>\n",
              "      <td>-11.215573</td>\n",
              "      <td>-15.720033</td>\n",
              "      <td>-15.401287</td>\n",
              "      <td>3.453196</td>\n",
              "      <td>9</td>\n",
              "      <td>-2.759724e+00</td>\n",
              "      <td>-3.171846e+00</td>\n",
              "      <td>-3.371041e+00</td>\n",
              "      <td>-3.183552e+00</td>\n",
              "      <td>-3.754358e+00</td>\n",
              "      <td>-3.248104e+00</td>\n",
              "      <td>3.224604e-01</td>\n",
              "    </tr>\n",
              "    <tr>\n",
              "      <th>5</th>\n",
              "      <td>0.054341</td>\n",
              "      <td>0.001153</td>\n",
              "      <td>0.003048</td>\n",
              "      <td>0.000208</td>\n",
              "      <td>4</td>\n",
              "      <td>30</td>\n",
              "      <td>NaN</td>\n",
              "      <td>{'max_features': 4, 'n_estimators': 30}</td>\n",
              "      <td>-16.166387</td>\n",
              "      <td>-16.108317</td>\n",
              "      <td>-9.018847</td>\n",
              "      <td>-9.936843</td>\n",
              "      <td>-14.351672</td>\n",
              "      <td>-13.116413</td>\n",
              "      <td>3.055468</td>\n",
              "      <td>6</td>\n",
              "      <td>-2.273831e+00</td>\n",
              "      <td>-2.080935e+00</td>\n",
              "      <td>-2.038921e+00</td>\n",
              "      <td>-2.098218e+00</td>\n",
              "      <td>-2.157309e+00</td>\n",
              "      <td>-2.129843e+00</td>\n",
              "      <td>8.141985e-02</td>\n",
              "    </tr>\n",
              "    <tr>\n",
              "      <th>6</th>\n",
              "      <td>0.007212</td>\n",
              "      <td>0.000399</td>\n",
              "      <td>0.000992</td>\n",
              "      <td>0.000080</td>\n",
              "      <td>6</td>\n",
              "      <td>3</td>\n",
              "      <td>NaN</td>\n",
              "      <td>{'max_features': 6, 'n_estimators': 3}</td>\n",
              "      <td>-24.891509</td>\n",
              "      <td>-16.961770</td>\n",
              "      <td>-20.811578</td>\n",
              "      <td>-15.577133</td>\n",
              "      <td>-32.592154</td>\n",
              "      <td>-22.166829</td>\n",
              "      <td>6.139458</td>\n",
              "      <td>17</td>\n",
              "      <td>-4.337905e+00</td>\n",
              "      <td>-6.394335e+00</td>\n",
              "      <td>-7.008999e+00</td>\n",
              "      <td>-7.309784e+00</td>\n",
              "      <td>-6.963200e+00</td>\n",
              "      <td>-6.402844e+00</td>\n",
              "      <td>1.074059e+00</td>\n",
              "    </tr>\n",
              "    <tr>\n",
              "      <th>7</th>\n",
              "      <td>0.020855</td>\n",
              "      <td>0.000294</td>\n",
              "      <td>0.001469</td>\n",
              "      <td>0.000040</td>\n",
              "      <td>6</td>\n",
              "      <td>10</td>\n",
              "      <td>NaN</td>\n",
              "      <td>{'max_features': 6, 'n_estimators': 10}</td>\n",
              "      <td>-13.681462</td>\n",
              "      <td>-12.399638</td>\n",
              "      <td>-13.972156</td>\n",
              "      <td>-12.692479</td>\n",
              "      <td>-14.517385</td>\n",
              "      <td>-13.452624</td>\n",
              "      <td>0.792792</td>\n",
              "      <td>7</td>\n",
              "      <td>-2.880333e+00</td>\n",
              "      <td>-2.720550e+00</td>\n",
              "      <td>-3.154889e+00</td>\n",
              "      <td>-3.281682e+00</td>\n",
              "      <td>-3.289679e+00</td>\n",
              "      <td>-3.065427e+00</td>\n",
              "      <td>2.272700e-01</td>\n",
              "    </tr>\n",
              "    <tr>\n",
              "      <th>8</th>\n",
              "      <td>0.064718</td>\n",
              "      <td>0.002136</td>\n",
              "      <td>0.003417</td>\n",
              "      <td>0.000472</td>\n",
              "      <td>6</td>\n",
              "      <td>30</td>\n",
              "      <td>NaN</td>\n",
              "      <td>{'max_features': 6, 'n_estimators': 30}</td>\n",
              "      <td>-16.057188</td>\n",
              "      <td>-11.278370</td>\n",
              "      <td>-11.237301</td>\n",
              "      <td>-12.697471</td>\n",
              "      <td>-10.937876</td>\n",
              "      <td>-12.441641</td>\n",
              "      <td>1.908013</td>\n",
              "      <td>3</td>\n",
              "      <td>-2.395226e+00</td>\n",
              "      <td>-1.656617e+00</td>\n",
              "      <td>-1.817001e+00</td>\n",
              "      <td>-2.113842e+00</td>\n",
              "      <td>-2.160514e+00</td>\n",
              "      <td>-2.028640e+00</td>\n",
              "      <td>2.616209e-01</td>\n",
              "    </tr>\n",
              "    <tr>\n",
              "      <th>9</th>\n",
              "      <td>0.007954</td>\n",
              "      <td>0.000255</td>\n",
              "      <td>0.000966</td>\n",
              "      <td>0.000031</td>\n",
              "      <td>8</td>\n",
              "      <td>3</td>\n",
              "      <td>NaN</td>\n",
              "      <td>{'max_features': 8, 'n_estimators': 3}</td>\n",
              "      <td>-23.500398</td>\n",
              "      <td>-12.255473</td>\n",
              "      <td>-17.668272</td>\n",
              "      <td>-12.098368</td>\n",
              "      <td>-10.483128</td>\n",
              "      <td>-15.201128</td>\n",
              "      <td>4.806833</td>\n",
              "      <td>8</td>\n",
              "      <td>-4.140713e+00</td>\n",
              "      <td>-3.856656e+00</td>\n",
              "      <td>-3.971814e+00</td>\n",
              "      <td>-5.239709e+00</td>\n",
              "      <td>-5.093275e+00</td>\n",
              "      <td>-4.460433e+00</td>\n",
              "      <td>5.853673e-01</td>\n",
              "    </tr>\n",
              "    <tr>\n",
              "      <th>10</th>\n",
              "      <td>0.023624</td>\n",
              "      <td>0.000162</td>\n",
              "      <td>0.001585</td>\n",
              "      <td>0.000096</td>\n",
              "      <td>8</td>\n",
              "      <td>10</td>\n",
              "      <td>NaN</td>\n",
              "      <td>{'max_features': 8, 'n_estimators': 10}</td>\n",
              "      <td>-17.788336</td>\n",
              "      <td>-10.191402</td>\n",
              "      <td>-12.972730</td>\n",
              "      <td>-12.469119</td>\n",
              "      <td>-11.554578</td>\n",
              "      <td>-12.995233</td>\n",
              "      <td>2.576358</td>\n",
              "      <td>5</td>\n",
              "      <td>-2.580317e+00</td>\n",
              "      <td>-2.945143e+00</td>\n",
              "      <td>-2.607307e+00</td>\n",
              "      <td>-2.803666e+00</td>\n",
              "      <td>-3.044795e+00</td>\n",
              "      <td>-2.796245e+00</td>\n",
              "      <td>1.823871e-01</td>\n",
              "    </tr>\n",
              "    <tr>\n",
              "      <th>11</th>\n",
              "      <td>0.069888</td>\n",
              "      <td>0.002570</td>\n",
              "      <td>0.003218</td>\n",
              "      <td>0.000380</td>\n",
              "      <td>8</td>\n",
              "      <td>30</td>\n",
              "      <td>NaN</td>\n",
              "      <td>{'max_features': 8, 'n_estimators': 30}</td>\n",
              "      <td>-14.519189</td>\n",
              "      <td>-11.554878</td>\n",
              "      <td>-12.083088</td>\n",
              "      <td>-11.332448</td>\n",
              "      <td>-9.883476</td>\n",
              "      <td>-11.874616</td>\n",
              "      <td>1.509837</td>\n",
              "      <td>1</td>\n",
              "      <td>-2.293409e+00</td>\n",
              "      <td>-1.926998e+00</td>\n",
              "      <td>-1.647220e+00</td>\n",
              "      <td>-1.971527e+00</td>\n",
              "      <td>-1.963568e+00</td>\n",
              "      <td>-1.960544e+00</td>\n",
              "      <td>2.050494e-01</td>\n",
              "    </tr>\n",
              "    <tr>\n",
              "      <th>12</th>\n",
              "      <td>0.005908</td>\n",
              "      <td>0.000455</td>\n",
              "      <td>0.000995</td>\n",
              "      <td>0.000039</td>\n",
              "      <td>2</td>\n",
              "      <td>3</td>\n",
              "      <td>False</td>\n",
              "      <td>{'bootstrap': False, 'max_features': 2, 'n_est...</td>\n",
              "      <td>-15.843210</td>\n",
              "      <td>-28.658628</td>\n",
              "      <td>-15.156776</td>\n",
              "      <td>-18.374513</td>\n",
              "      <td>-15.352881</td>\n",
              "      <td>-18.677202</td>\n",
              "      <td>5.122431</td>\n",
              "      <td>15</td>\n",
              "      <td>-2.644145e-30</td>\n",
              "      <td>-2.663623e-30</td>\n",
              "      <td>-2.439625e-30</td>\n",
              "      <td>-6.172840e-05</td>\n",
              "      <td>-3.058053e-30</td>\n",
              "      <td>-1.234568e-05</td>\n",
              "      <td>2.469136e-05</td>\n",
              "    </tr>\n",
              "    <tr>\n",
              "      <th>13</th>\n",
              "      <td>0.014965</td>\n",
              "      <td>0.000322</td>\n",
              "      <td>0.001708</td>\n",
              "      <td>0.000135</td>\n",
              "      <td>2</td>\n",
              "      <td>10</td>\n",
              "      <td>False</td>\n",
              "      <td>{'bootstrap': False, 'max_features': 2, 'n_est...</td>\n",
              "      <td>-17.996506</td>\n",
              "      <td>-18.577400</td>\n",
              "      <td>-12.143372</td>\n",
              "      <td>-13.443853</td>\n",
              "      <td>-17.861188</td>\n",
              "      <td>-16.004464</td>\n",
              "      <td>2.664598</td>\n",
              "      <td>11</td>\n",
              "      <td>-1.054736e-29</td>\n",
              "      <td>-1.099536e-29</td>\n",
              "      <td>-9.795023e-30</td>\n",
              "      <td>-5.555556e-06</td>\n",
              "      <td>-1.099292e-29</td>\n",
              "      <td>-1.111111e-06</td>\n",
              "      <td>2.222222e-06</td>\n",
              "    </tr>\n",
              "    <tr>\n",
              "      <th>14</th>\n",
              "      <td>0.005794</td>\n",
              "      <td>0.000336</td>\n",
              "      <td>0.001082</td>\n",
              "      <td>0.000141</td>\n",
              "      <td>3</td>\n",
              "      <td>3</td>\n",
              "      <td>False</td>\n",
              "      <td>{'bootstrap': False, 'max_features': 3, 'n_est...</td>\n",
              "      <td>-20.821591</td>\n",
              "      <td>-11.606735</td>\n",
              "      <td>-16.266626</td>\n",
              "      <td>-18.512798</td>\n",
              "      <td>-23.563457</td>\n",
              "      <td>-18.154241</td>\n",
              "      <td>4.072735</td>\n",
              "      <td>14</td>\n",
              "      <td>-2.644145e-30</td>\n",
              "      <td>-2.663623e-30</td>\n",
              "      <td>-2.439625e-30</td>\n",
              "      <td>-2.692840e-30</td>\n",
              "      <td>-3.058053e-30</td>\n",
              "      <td>-2.699657e-30</td>\n",
              "      <td>2.002453e-31</td>\n",
              "    </tr>\n",
              "    <tr>\n",
              "      <th>15</th>\n",
              "      <td>0.017602</td>\n",
              "      <td>0.000521</td>\n",
              "      <td>0.001745</td>\n",
              "      <td>0.000135</td>\n",
              "      <td>3</td>\n",
              "      <td>10</td>\n",
              "      <td>False</td>\n",
              "      <td>{'bootstrap': False, 'max_features': 3, 'n_est...</td>\n",
              "      <td>-14.989737</td>\n",
              "      <td>-15.365879</td>\n",
              "      <td>-8.589719</td>\n",
              "      <td>-9.308842</td>\n",
              "      <td>-11.210932</td>\n",
              "      <td>-11.893022</td>\n",
              "      <td>2.817993</td>\n",
              "      <td>2</td>\n",
              "      <td>-1.054736e-29</td>\n",
              "      <td>-1.099536e-29</td>\n",
              "      <td>-9.795023e-30</td>\n",
              "      <td>-5.555556e-06</td>\n",
              "      <td>-1.099292e-29</td>\n",
              "      <td>-1.111111e-06</td>\n",
              "      <td>2.222222e-06</td>\n",
              "    </tr>\n",
              "    <tr>\n",
              "      <th>16</th>\n",
              "      <td>0.006694</td>\n",
              "      <td>0.000356</td>\n",
              "      <td>0.001135</td>\n",
              "      <td>0.000122</td>\n",
              "      <td>4</td>\n",
              "      <td>3</td>\n",
              "      <td>False</td>\n",
              "      <td>{'bootstrap': False, 'max_features': 4, 'n_est...</td>\n",
              "      <td>-13.109273</td>\n",
              "      <td>-26.787078</td>\n",
              "      <td>-12.210508</td>\n",
              "      <td>-12.063155</td>\n",
              "      <td>-17.053141</td>\n",
              "      <td>-16.244631</td>\n",
              "      <td>5.574697</td>\n",
              "      <td>12</td>\n",
              "      <td>-2.644145e-30</td>\n",
              "      <td>-2.663623e-30</td>\n",
              "      <td>-2.439625e-30</td>\n",
              "      <td>-2.692840e-30</td>\n",
              "      <td>-3.058053e-30</td>\n",
              "      <td>-2.699657e-30</td>\n",
              "      <td>2.002453e-31</td>\n",
              "    </tr>\n",
              "    <tr>\n",
              "      <th>17</th>\n",
              "      <td>0.019608</td>\n",
              "      <td>0.000329</td>\n",
              "      <td>0.001662</td>\n",
              "      <td>0.000091</td>\n",
              "      <td>4</td>\n",
              "      <td>10</td>\n",
              "      <td>False</td>\n",
              "      <td>{'bootstrap': False, 'max_features': 4, 'n_est...</td>\n",
              "      <td>-17.677553</td>\n",
              "      <td>-14.253700</td>\n",
              "      <td>-10.147915</td>\n",
              "      <td>-8.800078</td>\n",
              "      <td>-13.807004</td>\n",
              "      <td>-12.937250</td>\n",
              "      <td>3.157739</td>\n",
              "      <td>4</td>\n",
              "      <td>-1.054736e-29</td>\n",
              "      <td>-1.099536e-29</td>\n",
              "      <td>-9.795023e-30</td>\n",
              "      <td>-1.029902e-29</td>\n",
              "      <td>-1.099292e-29</td>\n",
              "      <td>-1.052594e-29</td>\n",
              "      <td>4.526850e-31</td>\n",
              "    </tr>\n",
              "  </tbody>\n",
              "</table>\n",
              "</div>"
            ],
            "text/plain": [
              "    mean_fit_time  std_fit_time  ...  mean_train_score  std_train_score\n",
              "0        0.006922      0.002435  ...     -5.501167e+00     1.232904e+00\n",
              "1        0.017744      0.001721  ...     -2.998763e+00     3.566544e-01\n",
              "2        0.047174      0.000426  ...     -2.416054e+00     9.194514e-02\n",
              "3        0.006551      0.000268  ...     -7.723261e+00     1.584342e+00\n",
              "4        0.018769      0.000541  ...     -3.248104e+00     3.224604e-01\n",
              "5        0.054341      0.001153  ...     -2.129843e+00     8.141985e-02\n",
              "6        0.007212      0.000399  ...     -6.402844e+00     1.074059e+00\n",
              "7        0.020855      0.000294  ...     -3.065427e+00     2.272700e-01\n",
              "8        0.064718      0.002136  ...     -2.028640e+00     2.616209e-01\n",
              "9        0.007954      0.000255  ...     -4.460433e+00     5.853673e-01\n",
              "10       0.023624      0.000162  ...     -2.796245e+00     1.823871e-01\n",
              "11       0.069888      0.002570  ...     -1.960544e+00     2.050494e-01\n",
              "12       0.005908      0.000455  ...     -1.234568e-05     2.469136e-05\n",
              "13       0.014965      0.000322  ...     -1.111111e-06     2.222222e-06\n",
              "14       0.005794      0.000336  ...     -2.699657e-30     2.002453e-31\n",
              "15       0.017602      0.000521  ...     -1.111111e-06     2.222222e-06\n",
              "16       0.006694      0.000356  ...     -2.699657e-30     2.002453e-31\n",
              "17       0.019608      0.000329  ...     -1.052594e-29     4.526850e-31\n",
              "\n",
              "[18 rows x 23 columns]"
            ]
          },
          "metadata": {
            "tags": []
          },
          "execution_count": 46
        }
      ]
    },
    {
      "cell_type": "code",
      "metadata": {
        "id": "cx81OudgTIHF",
        "colab_type": "code",
        "colab": {
          "base_uri": "https://localhost:8080/",
          "height": 411
        },
        "outputId": "071e0472-e140-4ca7-8a3a-90df5f5c405e"
      },
      "source": [
        "from sklearn.model_selection import RandomizedSearchCV\n",
        "from scipy.stats import randint\n",
        "\n",
        "param_distribs = {\n",
        "        'n_estimators': randint(low=1, high=200),\n",
        "        'max_features': randint(low=1, high=8),\n",
        "    }\n",
        "\n",
        "forest_reg = RandomForestRegressor(random_state=42)\n",
        "rnd_search = RandomizedSearchCV(forest_reg, param_distributions=param_distribs,\n",
        "                                n_iter=10, cv=5, scoring='neg_mean_squared_error', random_state=42)\n",
        "rnd_search.fit(housing_prepared, housing_labels)"
      ],
      "execution_count": 47,
      "outputs": [
        {
          "output_type": "execute_result",
          "data": {
            "text/plain": [
              "RandomizedSearchCV(cv=5, error_score=nan,\n",
              "                   estimator=RandomForestRegressor(bootstrap=True,\n",
              "                                                   ccp_alpha=0.0,\n",
              "                                                   criterion='mse',\n",
              "                                                   max_depth=None,\n",
              "                                                   max_features='auto',\n",
              "                                                   max_leaf_nodes=None,\n",
              "                                                   max_samples=None,\n",
              "                                                   min_impurity_decrease=0.0,\n",
              "                                                   min_impurity_split=None,\n",
              "                                                   min_samples_leaf=1,\n",
              "                                                   min_samples_split=2,\n",
              "                                                   min_weight_fraction_leaf=0.0,\n",
              "                                                   n_estimators=100,\n",
              "                                                   n_jobs=None, oob_score=Fals...\n",
              "                                                   warm_start=False),\n",
              "                   iid='deprecated', n_iter=10, n_jobs=None,\n",
              "                   param_distributions={'max_features': <scipy.stats._distn_infrastructure.rv_frozen object at 0x7f20bb950978>,\n",
              "                                        'n_estimators': <scipy.stats._distn_infrastructure.rv_frozen object at 0x7f20bb950898>},\n",
              "                   pre_dispatch='2*n_jobs', random_state=42, refit=True,\n",
              "                   return_train_score=False, scoring='neg_mean_squared_error',\n",
              "                   verbose=0)"
            ]
          },
          "metadata": {
            "tags": []
          },
          "execution_count": 47
        }
      ]
    },
    {
      "cell_type": "code",
      "metadata": {
        "id": "3V9KADwqTNs-",
        "colab_type": "code",
        "colab": {
          "base_uri": "https://localhost:8080/",
          "height": 187
        },
        "outputId": "9bbd29a9-4bda-4bb6-c868-0ad88eb322dc"
      },
      "source": [
        "cvres = rnd_search.cv_results_\n",
        "for mean_score, params in zip(cvres[\"mean_test_score\"], cvres[\"params\"]):\n",
        "    print(np.sqrt(-mean_score), params)"
      ],
      "execution_count": 48,
      "outputs": [
        {
          "output_type": "stream",
          "text": [
            "3.4057668668791408 {'max_features': 7, 'n_estimators': 180}\n",
            "3.699284786099795 {'max_features': 5, 'n_estimators': 15}\n",
            "3.7364280931156193 {'max_features': 3, 'n_estimators': 72}\n",
            "3.514830808062523 {'max_features': 5, 'n_estimators': 21}\n",
            "3.397580277691538 {'max_features': 7, 'n_estimators': 122}\n",
            "3.739799034234447 {'max_features': 3, 'n_estimators': 75}\n",
            "3.733636764665271 {'max_features': 3, 'n_estimators': 88}\n",
            "3.434391889313552 {'max_features': 5, 'n_estimators': 100}\n",
            "3.6954948226303572 {'max_features': 3, 'n_estimators': 150}\n",
            "4.597604045909452 {'max_features': 5, 'n_estimators': 2}\n"
          ],
          "name": "stdout"
        }
      ]
    },
    {
      "cell_type": "code",
      "metadata": {
        "id": "AO4XCdZkTdTK",
        "colab_type": "code",
        "colab": {
          "base_uri": "https://localhost:8080/",
          "height": 68
        },
        "outputId": "6e13bc36-29c7-400b-aaac-91de1360a45d"
      },
      "source": [
        "feature_importances = grid_search.best_estimator_.feature_importances_\n",
        "feature_importances"
      ],
      "execution_count": 49,
      "outputs": [
        {
          "output_type": "execute_result",
          "data": {
            "text/plain": [
              "array([0.03484054, 0.00263572, 0.05203612, 0.00150965, 0.04035453,\n",
              "       0.32368001, 0.0328016 , 0.05403512, 0.00585764, 0.01671647,\n",
              "       0.02428519, 0.0176127 , 0.39363471])"
            ]
          },
          "metadata": {
            "tags": []
          },
          "execution_count": 49
        }
      ]
    },
    {
      "cell_type": "code",
      "metadata": {
        "id": "qU7r53rQTghx",
        "colab_type": "code",
        "colab": {}
      },
      "source": [
        "final_model = grid_search.best_estimator_\n",
        "\n",
        "X_test = test_set.drop(\"MEDV\", axis=1)\n",
        "y_test = test_set[\"MEDV\"].copy()\n",
        "\n",
        "X_test_prepared = full_pipeline.transform(X_test)\n",
        "final_predictions = final_model.predict(X_test_prepared)\n",
        "\n",
        "final_mse = mean_squared_error(y_test, final_predictions)\n",
        "final_rmse = np.sqrt(final_mse)"
      ],
      "execution_count": 0,
      "outputs": []
    },
    {
      "cell_type": "code",
      "metadata": {
        "id": "7prjERCaT4dx",
        "colab_type": "code",
        "colab": {
          "base_uri": "https://localhost:8080/",
          "height": 34
        },
        "outputId": "d6079816-f95a-47c0-b767-73af50db538b"
      },
      "source": [
        "final_rmse"
      ],
      "execution_count": 51,
      "outputs": [
        {
          "output_type": "execute_result",
          "data": {
            "text/plain": [
              "2.727477063719018"
            ]
          },
          "metadata": {
            "tags": []
          },
          "execution_count": 51
        }
      ]
    },
    {
      "cell_type": "code",
      "metadata": {
        "id": "BeyQzQR6T8Hg",
        "colab_type": "code",
        "colab": {
          "base_uri": "https://localhost:8080/",
          "height": 34
        },
        "outputId": "b9da25aa-f90f-4242-f535-f89dda080f67"
      },
      "source": [
        "from scipy import stats\n",
        "\n",
        "confidence = 0.95\n",
        "squared_errors = (final_predictions - y_test) ** 2\n",
        "np.sqrt(stats.t.interval(confidence, len(squared_errors) - 1,\n",
        "                         loc=squared_errors.mean(),\n",
        "                         scale=stats.sem(squared_errors)))"
      ],
      "execution_count": 52,
      "outputs": [
        {
          "output_type": "execute_result",
          "data": {
            "text/plain": [
              "array([2.11589857, 3.22509465])"
            ]
          },
          "metadata": {
            "tags": []
          },
          "execution_count": 52
        }
      ]
    },
    {
      "cell_type": "markdown",
      "metadata": {
        "id": "WzJyIquoUgFT",
        "colab_type": "text"
      },
      "source": [
        "# Step 7. Present your solution"
      ]
    },
    {
      "cell_type": "markdown",
      "metadata": {
        "id": "LM7mnMYMUjXw",
        "colab_type": "text"
      },
      "source": [
        "For the dataset of housing prices in Boston, MA, we use three different models, Linear Regression, Decision Tree Regressor, and Random Forest Regressor. Among these three models, we found that Random Forest Regressor performed the best according to its lowest root mean square error. The final model has a RMSE with 5-fold Cross Validation of 2.73, and the 95% confidence interval for this score is [2.116, 3.225].\n",
        "\n"
      ]
    },
    {
      "cell_type": "markdown",
      "metadata": {
        "id": "jumNIk27ZrJ5",
        "colab_type": "text"
      },
      "source": [
        "#Step 8. Launch, maintain, and update\n"
      ]
    }
  ]
}
